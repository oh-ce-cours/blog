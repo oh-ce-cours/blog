{
 "cells": [
  {
   "cell_type": "raw",
   "metadata": {},
   "source": [
    "---\n",
    "author: Matthieu Falce\n",
    "date: 18 november 2023\n",
    "categories:\n",
    "  - \"Ecosystème Python\" \n",
    "---"
   ]
  },
  {
   "cell_type": "markdown",
   "metadata": {},
   "source": [
    "# Pourquoi j'aime faire du python"
   ]
  },
  {
   "cell_type": "markdown",
   "metadata": {},
   "source": [
    "## Le développement et moi"
   ]
  },
  {
   "cell_type": "markdown",
   "metadata": {},
   "source": [
    "Comme beaucoup d'entre vous, j'ai fait mes premiers programmes sur ma calculette. \n",
    "\n",
    "Puis j'ai eu de vrais cours d'informatique en prépa. D'abord du Pascal puis du C / C++. Et j'ai détesté. Globalement, ma créativité était bloquée par le langage, je n'arrivais pas à exprimer correctement ce que je voulais à l'ordinateur.\n",
    "\n",
    "Et puis j'ai eu un cours de Python en 2011 (python 2.6 ou 2.7). "
   ]
  },
  {
   "cell_type": "markdown",
   "metadata": {},
   "source": [
    "## Rencontre avec python "
   ]
  },
  {
   "cell_type": "markdown",
   "metadata": {},
   "source": [
    "Et là c'était fou. J'arrivais enfin à faire des programmes qui marchent. \n",
    "\n",
    "Que ce soit de l'algorithmie ou des interfaces graphiques, c'était la première fois où je sentais que je maitrisais ce qui se passait. Tellement, que j'en ai fait mon métier et que maintenant je l'enseigne soit à des étudiants d'université soit à des professionnels en formation continue. \n",
    "\n",
    "En venant du `C++` écrire `print(\"Hello World\")` et avoir quelque chose qui s'affiche directement a quelque chose de magique. \n"
   ]
  },
  {
   "cell_type": "markdown",
   "metadata": {},
   "source": [
    "## Les forces du langage"
   ]
  },
  {
   "cell_type": "markdown",
   "metadata": {},
   "source": [
    "Avec un peu de recul, j'ai réussi à mettre le doigt sur ce qui me plaisait vraiment dans ce langage :\n",
    "\n",
    "* **ne se met pas en chemin de la réflexion** : globalement exprimer une idée en python n'est pas trop compliqué, le langage est \"haut niveau\", on peut se concentrer sur la destination que l'on veut atteindre\n",
    "* il est **raisonnable** : une syntaxe saine, des comportements relativement cohérents et une importance à la lisibilité du code écrit\n",
    "* il est **simple sans être simpliste** : pour quelqu'un qui connait l'informatique, apprendre les bases de Python prend une demi journée. Pour les subtilités du langage c'est une autre histoire... Il permet de découvrir des concepts assez avancés facilement (programmation fonctionnelle, métaprogrammation, modification d'AST, ...)\n",
    "* **l'écosystème** : globalement toutes les parties compliquées de vos projets ont déjà été codées par quelqu'un d'autre et sont facilement installable \n",
    "* **le meilleur nul part mais excellent partout** : quel que soit le projet, vous aurez toujours un language plus adapté (`R` pour la \"data\", `PHP` pour du web). Cependant dans les projets modernes qui peuvent s'étendre à l'interface de plusieurs domaines sa généricité est un atout. "
   ]
  },
  {
   "cell_type": "markdown",
   "metadata": {},
   "source": [
    "## Les faiblesses du langage"
   ]
  },
  {
   "cell_type": "markdown",
   "metadata": {},
   "source": [
    "Evidemment tout n'est pas rose. Au bout d'un moment on fini par voir les limites. \n",
    "\n",
    "N'oubliez pas qu'il y a deux types de langages : ceux qui sont parfaits et ceux que les gens utilisent. \n",
    "\n",
    "Voilà ce que j'ai remarqué : \n",
    "\n",
    "* le langage est **trop flexible** : les développeurs auront tendance à prendre toute la liberté qu'on leur offre, ce n'est pas une bonne chose à mon avis. \n",
    "* c'est au développeur d'**être responsable** : corollaire du point précédent.  Là où les langages plus stricts ont des gardes fous, en Python c'est au développeur et son équipe de les mettre en place\n",
    "* l'écosystème est **chaotique** : si l'on ne comprend pas bien les bases, installer des modules peut être un vrai calvaire"
   ]
  },
  {
   "cell_type": "markdown",
   "metadata": {},
   "source": [
    "## Et si c'était à refaire ?"
   ]
  },
  {
   "cell_type": "markdown",
   "metadata": {},
   "source": [
    "Je le referait sans aucun doutes. Mais différemment. \n",
    "\n",
    "J'ai mis vraiment longtemps à saisir certains concepts (par exemple les décorateurs). Pour certains, je ne les ai compris qu'en préparant des cours pour les expliquer (par exemple... les décorateurs) alors que je les utilisais assez souvent. Mais ce n'était pas clair.  \n",
    "\n",
    "Le problème ce n'est pas la difficulté des sujets ou sa soit-disant incompétence. C'est de trouver des ressources de qualité, qui vous expliquent simplement et sans *bullshit* ces sujets. Trouvez ces sources n'est pas facile, et surtout elles changent au cours du temps, certains projets n'étant plus mis à jours (au revoir Sam et Max, tu m'aura tout appris).\n",
    "\n",
    "C'est pour cela qu'avec Yves nous avons décidé de lancer *Oh Ce Cours* et ce blog. Pour partager nos ressources et notre expérience au plus grand nombre. \n",
    "\n",
    "Que ce soit dans nos formations, dans l'académie ou dans nos articles, nous essayons de vous exposer des sujets méconnus ou complexes, les simplifier pour que vous ayez le déclic. \n",
    "\n",
    "Donc, si c'était à refaire, je lirai probablement les articles de ce blog 😀"
   ]
  }
 ],
 "metadata": {
  "kernelspec": {
   "display_name": "blog-oh-ce-cours",
   "language": "python",
   "name": "python3"
  },
  "language_info": {
   "codemirror_mode": {
    "name": "ipython",
    "version": 3
   },
   "file_extension": ".py",
   "mimetype": "text/x-python",
   "name": "python",
   "nbconvert_exporter": "python",
   "pygments_lexer": "ipython3",
   "version": "3.12.0"
  }
 },
 "nbformat": 4,
 "nbformat_minor": 2
}
